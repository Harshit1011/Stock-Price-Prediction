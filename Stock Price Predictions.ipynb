{
 "cells": [
  {
   "cell_type": "code",
   "execution_count": 27,
   "metadata": {},
   "outputs": [],
   "source": [
    "from keras.models import Sequential\n",
    "from keras.layers import *\n",
    "from keras.utils import np_utils\n",
    "import pandas as pd\n",
    "import numpy as np\n",
    "from keras.callbacks import EarlyStopping , ModelCheckpoint\n",
    "from keras.models import load_model\n",
    "import matplotlib.pyplot as plt"
   ]
  },
  {
   "cell_type": "code",
   "execution_count": 16,
   "metadata": {},
   "outputs": [],
   "source": [
    "X_train = pd.read_csv(\"Train/x_train.csv\").values\n",
    "y_train = pd.read_csv(\"Train/y_train.csv\").values"
   ]
  },
  {
   "cell_type": "code",
   "execution_count": 17,
   "metadata": {},
   "outputs": [],
   "source": [
    "# Feature Scaling\n",
    "\n",
    "from sklearn.preprocessing import MinMaxScaler\n",
    "sc = MinMaxScaler(feature_range = (0, 1))\n",
    "X_train = sc.fit_transform(X_train)\n",
    "y_train = sc.transform(y_train)"
   ]
  },
  {
   "cell_type": "code",
   "execution_count": 18,
   "metadata": {},
   "outputs": [],
   "source": [
    "X_train = X_train.reshape((X_train.shape[0],X_train.shape[1],1))"
   ]
  },
  {
   "cell_type": "code",
   "execution_count": 19,
   "metadata": {},
   "outputs": [
    {
     "data": {
      "text/plain": [
       "(1257, 1, 1)"
      ]
     },
     "execution_count": 19,
     "metadata": {},
     "output_type": "execute_result"
    }
   ],
   "source": [
    "X_train.shape"
   ]
  },
  {
   "cell_type": "code",
   "execution_count": 20,
   "metadata": {},
   "outputs": [],
   "source": [
    "y_train = y_train.reshape(-1,)"
   ]
  },
  {
   "cell_type": "code",
   "execution_count": 21,
   "metadata": {},
   "outputs": [
    {
     "data": {
      "text/plain": [
       "(1257,)"
      ]
     },
     "execution_count": 21,
     "metadata": {},
     "output_type": "execute_result"
    }
   ],
   "source": [
    "y_train.shape"
   ]
  },
  {
   "cell_type": "code",
   "execution_count": null,
   "metadata": {},
   "outputs": [],
   "source": []
  },
  {
   "cell_type": "code",
   "execution_count": null,
   "metadata": {},
   "outputs": [],
   "source": []
  },
  {
   "cell_type": "code",
   "execution_count": 24,
   "metadata": {},
   "outputs": [
    {
     "name": "stdout",
     "output_type": "stream",
     "text": [
      "_________________________________________________________________\n",
      "Layer (type)                 Output Shape              Param #   \n",
      "=================================================================\n",
      "lstm_9 (LSTM)                (None, None, 64)          16896     \n",
      "_________________________________________________________________\n",
      "lstm_10 (LSTM)               (None, None, 64)          33024     \n",
      "_________________________________________________________________\n",
      "lstm_11 (LSTM)               (None, None, 64)          33024     \n",
      "_________________________________________________________________\n",
      "lstm_12 (LSTM)               (None, 3)                 816       \n",
      "_________________________________________________________________\n",
      "dense_3 (Dense)              (None, 1)                 4         \n",
      "=================================================================\n",
      "Total params: 83,764\n",
      "Trainable params: 83,764\n",
      "Non-trainable params: 0\n",
      "_________________________________________________________________\n"
     ]
    }
   ],
   "source": [
    "\n",
    "# Importing the Keras libraries and packages\n",
    "from keras.models import Sequential\n",
    "from keras.layers import Dense\n",
    "from keras.layers import LSTM\n",
    "\n",
    "# Initialising the RNN\n",
    "regressor = Sequential()\n",
    "\n",
    "# Adding the input layer and the LSTM layer\n",
    "regressor.add(LSTM(units = 64, return_sequences = True, input_shape = (None, 1)))\n",
    "\n",
    "# Adding a second LSTM layer\n",
    "regressor.add(LSTM(units = 64, return_sequences = True))\n",
    "\n",
    "# Adding a third LSTM layer\n",
    "regressor.add(LSTM(units = 64, return_sequences = True))\n",
    "\n",
    "# Adding a fourth LSTM layer\n",
    "regressor.add(LSTM(units = 3))\n",
    "\n",
    "# Adding the output layer\n",
    "regressor.add(Dense(units = 1))\n",
    "\n",
    "# Compiling the RNN\n",
    "regressor.compile(optimizer = 'rmsprop', loss = 'mean_squared_error')\n",
    "\n",
    "regressor.summary()"
   ]
  },
  {
   "cell_type": "code",
   "execution_count": null,
   "metadata": {},
   "outputs": [],
   "source": []
  },
  {
   "cell_type": "code",
   "execution_count": 25,
   "metadata": {},
   "outputs": [
    {
     "name": "stdout",
     "output_type": "stream",
     "text": [
      "Epoch 1/50\n",
      "1257/1257 [==============================] - 5s 4ms/step - loss: 0.1949\n",
      "Epoch 2/50\n",
      "1257/1257 [==============================] - 0s 213us/step - loss: 0.0314\n",
      "Epoch 3/50\n",
      "1257/1257 [==============================] - 0s 232us/step - loss: 0.0053\n",
      "Epoch 4/50\n",
      "1257/1257 [==============================] - 0s 223us/step - loss: 0.0013\n",
      "Epoch 5/50\n",
      "1257/1257 [==============================] - 0s 209us/step - loss: 8.4892e-04\n",
      "Epoch 6/50\n",
      "1257/1257 [==============================] - 0s 213us/step - loss: 7.3097e-04\n",
      "Epoch 7/50\n",
      "1257/1257 [==============================] - 0s 235us/step - loss: 5.4468e-04\n",
      "Epoch 8/50\n",
      "1257/1257 [==============================] - 0s 210us/step - loss: 5.4118e-04\n",
      "Epoch 9/50\n",
      "1257/1257 [==============================] - 0s 211us/step - loss: 5.5466e-04\n",
      "Epoch 10/50\n",
      "1257/1257 [==============================] - 0s 212us/step - loss: 5.6040e-04\n",
      "Epoch 11/50\n",
      "1257/1257 [==============================] - 0s 220us/step - loss: 4.7672e-04\n",
      "Epoch 12/50\n",
      "1257/1257 [==============================] - 0s 211us/step - loss: 5.3220e-04\n",
      "Epoch 13/50\n",
      "1257/1257 [==============================] - 0s 226us/step - loss: 4.7674e-04\n",
      "Epoch 14/50\n",
      "1257/1257 [==============================] - 0s 210us/step - loss: 4.9464e-04\n",
      "Epoch 15/50\n",
      "1257/1257 [==============================] - 0s 227us/step - loss: 5.4484e-04\n",
      "Epoch 16/50\n",
      "1257/1257 [==============================] - 0s 210us/step - loss: 4.2768e-04\n",
      "Epoch 17/50\n",
      "1257/1257 [==============================] - 0s 229us/step - loss: 5.0971e-04\n",
      "Epoch 18/50\n",
      "1257/1257 [==============================] - 0s 235us/step - loss: 4.9895e-04\n",
      "Epoch 19/50\n",
      "1257/1257 [==============================] - 0s 213us/step - loss: 5.1519e-04\n",
      "Epoch 20/50\n",
      "1257/1257 [==============================] - 0s 223us/step - loss: 4.4816e-04\n",
      "Epoch 21/50\n",
      "1257/1257 [==============================] - 0s 216us/step - loss: 4.9071e-04\n",
      "Epoch 22/50\n",
      "1257/1257 [==============================] - 0s 226us/step - loss: 4.8886e-04\n",
      "Epoch 23/50\n",
      "1257/1257 [==============================] - 0s 217us/step - loss: 4.6533e-04\n",
      "Epoch 24/50\n",
      "1257/1257 [==============================] - 0s 216us/step - loss: 4.7662e-04\n",
      "Epoch 25/50\n",
      "1257/1257 [==============================] - 0s 210us/step - loss: 4.0485e-04\n",
      "Epoch 26/50\n",
      "1257/1257 [==============================] - 0s 223us/step - loss: 4.9695e-04\n",
      "Epoch 27/50\n",
      "1257/1257 [==============================] - 0s 212us/step - loss: 4.7376e-04\n",
      "Epoch 28/50\n",
      "1257/1257 [==============================] - 0s 213us/step - loss: 4.5703e-04\n",
      "Epoch 29/50\n",
      "1257/1257 [==============================] - 0s 213us/step - loss: 4.1915e-04\n",
      "Epoch 30/50\n",
      "1257/1257 [==============================] - 0s 232us/step - loss: 4.1766e-04\n",
      "Epoch 31/50\n",
      "1257/1257 [==============================] - 0s 223us/step - loss: 4.1909e-04\n",
      "Epoch 32/50\n",
      "1257/1257 [==============================] - 0s 235us/step - loss: 4.6166e-04\n",
      "Epoch 33/50\n",
      "1257/1257 [==============================] - 0s 235us/step - loss: 3.9858e-04\n",
      "Epoch 34/50\n",
      "1257/1257 [==============================] - 0s 229us/step - loss: 4.2772e-04\n",
      "Epoch 35/50\n",
      "1257/1257 [==============================] - 0s 229us/step - loss: 4.3999e-04\n",
      "Epoch 36/50\n",
      "1257/1257 [==============================] - 0s 226us/step - loss: 4.2363e-04\n",
      "Epoch 37/50\n",
      "1257/1257 [==============================] - 0s 245us/step - loss: 4.4817e-04\n",
      "Epoch 38/50\n",
      "1257/1257 [==============================] - 0s 232us/step - loss: 4.0997e-04\n",
      "Epoch 39/50\n",
      "1257/1257 [==============================] - 0s 239us/step - loss: 4.0450e-04\n",
      "Epoch 40/50\n",
      "1257/1257 [==============================] - 0s 239us/step - loss: 4.1155e-04\n",
      "Epoch 41/50\n",
      "1257/1257 [==============================] - 0s 220us/step - loss: 4.0363e-04\n",
      "Epoch 42/50\n",
      "1257/1257 [==============================] - 0s 223us/step - loss: 4.4316e-04\n",
      "Epoch 43/50\n",
      "1257/1257 [==============================] - 0s 223us/step - loss: 3.4226e-04\n",
      "Epoch 44/50\n",
      "1257/1257 [==============================] - 0s 232us/step - loss: 4.8124e-04\n",
      "Epoch 45/50\n",
      "1257/1257 [==============================] - 0s 223us/step - loss: 4.0017e-04\n",
      "Epoch 46/50\n",
      "1257/1257 [==============================] - 0s 242us/step - loss: 3.7595e-04\n",
      "Epoch 47/50\n",
      "1257/1257 [==============================] - 0s 235us/step - loss: 3.8898e-04\n",
      "Epoch 48/50\n",
      "1257/1257 [==============================] - 0s 252us/step - loss: 3.8627e-04\n",
      "Epoch 49/50\n",
      "1257/1257 [==============================] - 0s 248us/step - loss: 4.3569e-04\n",
      "Epoch 50/50\n",
      "1257/1257 [==============================] - 0s 232us/step - loss: 3.8060e-04\n"
     ]
    }
   ],
   "source": [
    "# Fitting the RNN to the Training set\n",
    "hist = regressor.fit(X_train, y_train, epochs = 50, batch_size = 32)"
   ]
  },
  {
   "cell_type": "code",
   "execution_count": 28,
   "metadata": {},
   "outputs": [
    {
     "data": {
      "text/plain": [
       "[<matplotlib.lines.Line2D at 0x19183d960f0>]"
      ]
     },
     "execution_count": 28,
     "metadata": {},
     "output_type": "execute_result"
    },
    {
     "data": {
      "image/png": "[encoded data removed]",
      "text/plain": [
       "<Figure size 432x288 with 1 Axes>"
      ]
     },
     "metadata": {
      "needs_background": "light"
     },
     "output_type": "display_data"
    }
   ],
   "source": [
    "plt.plot(hist.history['loss'])\n",
    "# plt.plot(hist.history[''])"
   ]
  },
  {
   "cell_type": "code",
   "execution_count": null,
   "metadata": {},
   "outputs": [],
   "source": []
  },
  {
   "cell_type": "code",
   "execution_count": 29,
   "metadata": {},
   "outputs": [],
   "source": [
    "# modelcheckpoint = ModelCheckpoint(\"best_model.h5\",save_best_only=True)\n",
    "# earlystop = EarlyStopping(patience=5 , monitor='val_loss',restore_best_weights=True)\n",
    "\n",
    "# hist = model.fit(X_train, y_train, epochs=100, batch_size=32, callbacks=[modelcheckpoint,earlystop], shuffle=True, validation_split=0.2)"
   ]
  },
  {
   "cell_type": "code",
   "execution_count": null,
   "metadata": {},
   "outputs": [],
   "source": []
  },
  {
   "cell_type": "code",
   "execution_count": null,
   "metadata": {},
   "outputs": [],
   "source": []
  },
  {
   "cell_type": "code",
   "execution_count": 30,
   "metadata": {},
   "outputs": [],
   "source": [
    "X_test = pd.read_csv(\"Test/x_test.csv\").values"
   ]
  },
  {
   "cell_type": "code",
   "execution_count": 31,
   "metadata": {},
   "outputs": [],
   "source": [
    "X_test = sc.transform(X_test)"
   ]
  },
  {
   "cell_type": "code",
   "execution_count": 32,
   "metadata": {},
   "outputs": [],
   "source": [
    "X_test = X_test.reshape((X_test.shape[0],X_test.shape[1],1))"
   ]
  },
  {
   "cell_type": "code",
   "execution_count": 33,
   "metadata": {},
   "outputs": [
    {
     "data": {
      "text/plain": [
       "(19, 1, 1)"
      ]
     },
     "execution_count": 33,
     "metadata": {},
     "output_type": "execute_result"
    }
   ],
   "source": [
    "X_test.shape"
   ]
  },
  {
   "cell_type": "code",
   "execution_count": null,
   "metadata": {},
   "outputs": [],
   "source": []
  },
  {
   "cell_type": "code",
   "execution_count": 34,
   "metadata": {},
   "outputs": [],
   "source": [
    "y_pred = regressor.predict(X_test)\n"
   ]
  },
  {
   "cell_type": "code",
   "execution_count": 35,
   "metadata": {},
   "outputs": [],
   "source": [
    "y_pred = sc.inverse_transform(y_pred)"
   ]
  },
  {
   "cell_type": "code",
   "execution_count": null,
   "metadata": {},
   "outputs": [],
   "source": []
  },
  {
   "cell_type": "code",
   "execution_count": 36,
   "metadata": {},
   "outputs": [],
   "source": [
    "result = pd.DataFrame(y_pred, columns=['High'])"
   ]
  },
  {
   "cell_type": "code",
   "execution_count": 37,
   "metadata": {},
   "outputs": [
    {
     "data": {
      "text/html": [
       "<div>\n",
       "<style scoped>\n",
       "    .dataframe tbody tr th:only-of-type {\n",
       "        vertical-align: middle;\n",
       "    }\n",
       "\n",
       "    .dataframe tbody tr th {\n",
       "        vertical-align: top;\n",
       "    }\n",
       "\n",
       "    .dataframe thead th {\n",
       "        text-align: right;\n",
       "    }\n",
       "</style>\n",
       "<table border=\"1\" class=\"dataframe\">\n",
       "  <thead>\n",
       "    <tr style=\"text-align: right;\">\n",
       "      <th></th>\n",
       "      <th>High</th>\n",
       "    </tr>\n",
       "  </thead>\n",
       "  <tbody>\n",
       "    <tr>\n",
       "      <th>0</th>\n",
       "      <td>788.968018</td>\n",
       "    </tr>\n",
       "    <tr>\n",
       "      <th>1</th>\n",
       "      <td>790.665283</td>\n",
       "    </tr>\n",
       "    <tr>\n",
       "      <th>2</th>\n",
       "      <td>793.781616</td>\n",
       "    </tr>\n",
       "    <tr>\n",
       "      <th>3</th>\n",
       "      <td>807.095215</td>\n",
       "    </tr>\n",
       "    <tr>\n",
       "      <th>4</th>\n",
       "      <td>809.147888</td>\n",
       "    </tr>\n",
       "  </tbody>\n",
       "</table>\n",
       "</div>"
      ],
      "text/plain": [
       "         High\n",
       "0  788.968018\n",
       "1  790.665283\n",
       "2  793.781616\n",
       "3  807.095215\n",
       "4  809.147888"
      ]
     },
     "execution_count": 37,
     "metadata": {},
     "output_type": "execute_result"
    }
   ],
   "source": [
    "result.head()"
   ]
  },
  {
   "cell_type": "code",
   "execution_count": 38,
   "metadata": {},
   "outputs": [],
   "source": [
    "result.to_csv(\"pred_.csv\", index=False)"
   ]
  },
  {
   "cell_type": "code",
   "execution_count": null,
   "metadata": {},
   "outputs": [],
   "source": []
  },
  {
   "cell_type": "code",
   "execution_count": null,
   "metadata": {},
   "outputs": [],
   "source": []
  },
  {
   "cell_type": "code",
   "execution_count": null,
   "metadata": {},
   "outputs": [],
   "source": []
  },
  {
   "cell_type": "code",
   "execution_count": null,
   "metadata": {},
   "outputs": [],
   "source": [
    "XX_train = pd.read_csv(\"Train/x_train.csv\").values\n",
    "yy_train = pd.read_csv(\"Train/y_train.csv\").values"
   ]
  },
  {
   "cell_type": "code",
   "execution_count": null,
   "metadata": {},
   "outputs": [],
   "source": [
    "from sklearn.linear_model import LinearRegression\n",
    "x = LinearRegression()"
   ]
  },
  {
   "cell_type": "code",
   "execution_count": null,
   "metadata": {},
   "outputs": [],
   "source": [
    "x.fit(XX_train,yy_train)"
   ]
  },
  {
   "cell_type": "code",
   "execution_count": null,
   "metadata": {},
   "outputs": [],
   "source": [
    "XX_test = pd.read_csv(\"Test/x_test.csv\").values"
   ]
  },
  {
   "cell_type": "code",
   "execution_count": null,
   "metadata": {},
   "outputs": [],
   "source": [
    "p = x.predict(XX_test)"
   ]
  },
  {
   "cell_type": "code",
   "execution_count": null,
   "metadata": {},
   "outputs": [],
   "source": [
    "p.shape"
   ]
  },
  {
   "cell_type": "code",
   "execution_count": null,
   "metadata": {},
   "outputs": [],
   "source": []
  }
 ],
 "metadata": {
  "kernelspec": {
   "display_name": "Python 3",
   "language": "python",
   "name": "python3"
  },
  "language_info": {
   "codemirror_mode": {
    "name": "ipython",
    "version": 3
   },
   "file_extension": ".py",
   "mimetype": "text/x-python",
   "name": "python",
   "nbconvert_exporter": "python",
   "pygments_lexer": "ipython3",
   "version": "3.7.3"
  }
 },
 "nbformat": 4,
 "nbformat_minor": 2
}
